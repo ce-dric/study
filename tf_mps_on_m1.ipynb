{
 "cells": [
  {
   "cell_type": "code",
   "execution_count": 1,
   "id": "0b4d9409-530d-4a6f-9e56-e365ef34d397",
   "metadata": {},
   "outputs": [
    {
     "name": "stdout",
     "output_type": "stream",
     "text": [
      "PhysicalDevice(name='/physical_device:CPU:0', device_type='CPU')\n",
      "PhysicalDevice(name='/physical_device:GPU:0', device_type='GPU')\n"
     ]
    }
   ],
   "source": [
    "import tensorflow as tf\n",
    "\n",
    "# List available devices and print them\n",
    "devices = tf.config.list_physical_devices()\n",
    "for device in devices:\n",
    "    print(device)\n"
   ]
  },
  {
   "cell_type": "code",
   "execution_count": null,
   "id": "5f8fe4fa-ff3d-4e15-a7b8-1743ad0eb16b",
   "metadata": {},
   "outputs": [],
   "source": []
  },
  {
   "cell_type": "code",
   "execution_count": null,
   "id": "bd54d1ef-1228-4df3-8e98-2ba29c7e8e7a",
   "metadata": {},
   "outputs": [],
   "source": []
  }
 ],
 "metadata": {
  "kernelspec": {
   "display_name": "M1 (tensorflow)",
   "language": "python",
   "name": "tf_py39"
  },
  "language_info": {
   "codemirror_mode": {
    "name": "ipython",
    "version": 3
   },
   "file_extension": ".py",
   "mimetype": "text/x-python",
   "name": "python",
   "nbconvert_exporter": "python",
   "pygments_lexer": "ipython3",
   "version": "3.9.18"
  }
 },
 "nbformat": 4,
 "nbformat_minor": 5
}
